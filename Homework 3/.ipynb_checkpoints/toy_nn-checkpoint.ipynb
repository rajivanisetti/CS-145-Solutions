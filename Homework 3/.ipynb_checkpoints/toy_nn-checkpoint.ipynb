{
 "cells": [
  {
   "cell_type": "markdown",
   "metadata": {},
   "source": [
    "# Two-layer Neural Network Workbook for CS145 Homework 3\n",
    "\n",
    "----\n",
    "<span style=\"color:red\">**PRINT YOUR NAME AND UID HERE!**</span>\n",
    "\n",
    "NAME: [Anisetti, Rajiv] UID: [904801422]\n",
    "\n",
    "----\n",
    "\n",
    "\n",
    "Please follow the notebook linearly to implement a two layer neural network.\n",
    "\n",
    "Please print out the workbook entirely when completed.\n",
    "\n",
    "The goal of this workbook is to give you experience with training a two layer neural network.\n",
    "\n",
    "---"
   ]
  },
  {
   "cell_type": "markdown",
   "metadata": {},
   "source": [
    "Import libraries and define relative error function, which is used to check results later. "
   ]
  },
  {
   "cell_type": "code",
   "execution_count": 1,
   "metadata": {},
   "outputs": [],
   "source": [
    "import random\n",
    "import numpy as np\n",
    "from cs145.data_utils import load_CIFAR10\n",
    "import matplotlib.pyplot as plt\n",
    "\n",
    "%matplotlib inline\n",
    "plt.rcParams['figure.figsize'] = (10.0, 8.0)\n",
    "%load_ext autoreload\n",
    "%autoreload 2\n",
    "\n",
    "def rel_error(x, y):\n",
    "    \"\"\" returns relative error \"\"\"\n",
    "    return np.max(np.abs(x - y) / (np.maximum(1e-8, np.abs(x) + np.abs(y))))"
   ]
  },
  {
   "cell_type": "markdown",
   "metadata": {},
   "source": [
    "## Toy example\n",
    "\n",
    "Before loading CIFAR-10, there will be a toy example to test your implementation of the forward and backward pass."
   ]
  },
  {
   "cell_type": "code",
   "execution_count": 4,
   "metadata": {},
   "outputs": [],
   "source": [
    "from lib.neural_net import TwoLayerNet"
   ]
  },
  {
   "cell_type": "code",
   "execution_count": 5,
   "metadata": {},
   "outputs": [],
   "source": [
    "# Create a small net and some toy data to check your implementations.\n",
    "# Note that we set the random seed for repeatable experiments.\n",
    "\n",
    "input_size = 4\n",
    "hidden_size = 10\n",
    "num_classes = 3\n",
    "num_inputs = 5\n",
    "\n",
    "def init_toy_model():\n",
    "    np.random.seed(0)\n",
    "    return TwoLayerNet(input_size, hidden_size, num_classes, std=1e-1)\n",
    "\n",
    "def init_toy_data():\n",
    "    np.random.seed(1)\n",
    "    X = 10 * np.random.randn(num_inputs, input_size)\n",
    "    y = np.array([0, 1, 2, 2, 1])\n",
    "    return X, y\n",
    "\n",
    "net = init_toy_model()\n",
    "X, y = init_toy_data()"
   ]
  },
  {
   "cell_type": "markdown",
   "metadata": {},
   "source": [
    "### Compute forward pass scores"
   ]
  },
  {
   "cell_type": "code",
   "execution_count": 6,
   "metadata": {},
   "outputs": [
    {
     "name": "stdout",
     "output_type": "stream",
     "text": [
      "Your scores:\n",
      "[[-1.07260209  0.05083871 -0.87253915]\n",
      " [-2.02778743 -0.10832494 -1.52641362]\n",
      " [-0.74225908  0.15259725 -0.39578548]\n",
      " [-0.38172726  0.10835902 -0.17328274]\n",
      " [-0.64417314 -0.18886813 -0.41106892]]\n",
      "\n",
      "correct scores:\n",
      "[[-1.07260209  0.05083871 -0.87253915]\n",
      " [-2.02778743 -0.10832494 -1.52641362]\n",
      " [-0.74225908  0.15259725 -0.39578548]\n",
      " [-0.38172726  0.10835902 -0.17328274]\n",
      " [-0.64417314 -0.18886813 -0.41106892]]\n",
      "\n",
      "Difference between your scores and correct scores:\n",
      "3.381231210991542e-08\n"
     ]
    }
   ],
   "source": [
    "## Implement the forward pass of the neural network.\n",
    "\n",
    "# Note, there is a statement if y is None: return scores, which is why \n",
    "# the following call will calculate the scores.\n",
    "scores = net.loss(X)\n",
    "print('Your scores:')\n",
    "print(scores)\n",
    "print()\n",
    "print('correct scores:')\n",
    "correct_scores = np.asarray([\n",
    "    [-1.07260209,  0.05083871, -0.87253915],\n",
    "    [-2.02778743, -0.10832494, -1.52641362],\n",
    "    [-0.74225908,  0.15259725, -0.39578548],\n",
    "    [-0.38172726,  0.10835902, -0.17328274],\n",
    "    [-0.64417314, -0.18886813, -0.41106892]])\n",
    "print(correct_scores)\n",
    "print()\n",
    "\n",
    "# The difference should be very small. We get < 1e-7\n",
    "print('Difference between your scores and correct scores:')\n",
    "print(np.sum(np.abs(scores - correct_scores)))"
   ]
  },
  {
   "cell_type": "markdown",
   "metadata": {},
   "source": [
    "### Forward pass loss\n",
    "\n",
    "The total loss includes data loss (MSE) and regularization loss, which is,\n",
    "\n",
    "$$L = L_{data}+L_{reg} = \\frac{1}{2N}\\sum_{i=1}^{N}\\left(\\boldsymbol{y}_{\\text{pred}}-\\boldsymbol{y}_{\\text{target}}\\right)^2 + \\frac{\\lambda}{2} \\left(||W_1||^2 + ||W_2||^2 \\right)$$\n",
    "\n",
    "More specifically in multi-class situation, if the output of neural nets from one sample is $y_{\\text{pred}}=(0.1,0.1,0.8)$ and $y_{\\text{target}}=(0,0,1)$ from the given label, then the MSE error will be $Error=(0.1-0)^2+(0.1-0)^2+(0.8-1)^2=0.06$\n",
    "\n",
    "Implement data loss and regularization loss. In the MSE function, you also need to return the gradients which need to be passed backward. This is similar to batch gradient in linear regression. Test your implementation of loss functions. The Difference should be less than 1e-12."
   ]
  },
  {
   "cell_type": "code",
   "execution_count": 16,
   "metadata": {},
   "outputs": [
    {
     "name": "stdout",
     "output_type": "stream",
     "text": [
      "Difference between your loss and correct loss:\n",
      "0.0\n"
     ]
    }
   ],
   "source": [
    "loss, _ = net.loss(X, y, reg=0.05)\n",
    "correct_loss_MSE = 1.8973332763705641 # check this number\n",
    "\n",
    "# should be very small, we get < 1e-12\n",
    "print('Difference between your loss and correct loss:')\n",
    "print(np.sum(np.abs(loss - correct_loss_MSE)))"
   ]
  },
  {
   "cell_type": "markdown",
   "metadata": {},
   "source": [
    "### Backward pass (You do not need to implemented this part)\n",
    "\n",
    "We have already implemented the backwards pass of the neural network for you.  Run the block of code to check your gradients with the gradient check utilities provided. The results should be automatically correct (tiny relative error).\n",
    "\n",
    "If there is a gradient error larger than 1e-8, the training for neural networks later will be negatively affected."
   ]
  },
  {
   "cell_type": "code",
   "execution_count": 17,
   "metadata": {},
   "outputs": [
    {
     "name": "stdout",
     "output_type": "stream",
     "text": [
      "W2 max relative error: 8.800911222099066e-11\n",
      "b2 max relative error: 2.4554844805570154e-11\n",
      "W1 max relative error: 1.7476665046687833e-09\n",
      "b1 max relative error: 7.382451041178829e-10\n"
     ]
    }
   ],
   "source": [
    "from cs145.gradient_check import eval_numerical_gradient\n",
    "\n",
    "# Use numeric gradient checking to check your implementation of the backward pass.\n",
    "# If your implementation is correct, the difference between the numeric and\n",
    "# analytic gradients should be less than 1e-8 for each of W1, W2, b1, and b2.\n",
    "\n",
    "loss, grads = net.loss(X, y, reg=0.05)\n",
    "\n",
    "# these should all be less than 1e-8 or so\n",
    "for param_name in grads:\n",
    "    f = lambda W: net.loss(X, y, reg=0.05)[0]\n",
    "    param_grad_num = eval_numerical_gradient(f, net.params[param_name], verbose=False)\n",
    "    print('{} max relative error: {}'.format(param_name, rel_error(param_grad_num, grads[param_name])))"
   ]
  },
  {
   "cell_type": "markdown",
   "metadata": {},
   "source": [
    "### Training the network\n",
    "\n",
    "Implement neural_net.train() to train the network via stochastic gradient descent, much like the linear regression."
   ]
  },
  {
   "cell_type": "code",
   "execution_count": 18,
   "metadata": {},
   "outputs": [
    {
     "name": "stdout",
     "output_type": "stream",
     "text": [
      "Final training loss:  0.02950555626206818\n"
     ]
    },
    {
     "data": {
      "image/png": "[encoded data removed]",
      "text/plain": [
       "<matplotlib.figure.Figure at 0x10b9d2b00>"
      ]
     },
     "metadata": {},
     "output_type": "display_data"
    }
   ],
   "source": [
    "net = init_toy_model()\n",
    "stats = net.train(X, y, X, y,\n",
    "            learning_rate=1e-1, reg=5e-6,\n",
    "            num_iters=100, verbose=False)\n",
    "\n",
    "print('Final training loss: ', stats['loss_history'][-1])\n",
    "\n",
    "# plot the loss history\n",
    "plt.plot(stats['loss_history'])\n",
    "plt.xlabel('iteration')\n",
    "plt.ylabel('training loss')\n",
    "plt.title('Training Loss history')\n",
    "plt.show()"
   ]
  },
  {
   "cell_type": "markdown",
   "metadata": {},
   "source": [
    "## Classify CIFAR-10\n",
    "\n",
    "Do classification on the CIFAR-10 dataset."
   ]
  },
  {
   "cell_type": "code",
   "execution_count": 19,
   "metadata": {},
   "outputs": [
    {
     "name": "stdout",
     "output_type": "stream",
     "text": [
      "Train data shape:  (49000, 3072)\n",
      "Train labels shape:  (49000,)\n",
      "Validation data shape:  (1000, 3072)\n",
      "Validation labels shape:  (1000,)\n",
      "Test data shape:  (1000, 3072)\n",
      "Test labels shape:  (1000,)\n"
     ]
    }
   ],
   "source": [
    "from cs145.data_utils import load_CIFAR10\n",
    "\n",
    "def get_CIFAR10_data(num_training=49000, num_validation=1000, num_test=1000):\n",
    "    \"\"\"\n",
    "    Load the CIFAR-10 dataset from disk and perform preprocessing to prepare\n",
    "    it for the two-layer neural net classifier. These are the same steps as\n",
    "    we used for the SVM, but condensed to a single function.  \n",
    "    \"\"\"\n",
    "    # Load the raw CIFAR-10 data\n",
    "    cifar10_dir = './cs145/datasets/cifar-10-batches-py'\n",
    "    X_train, y_train, X_test, y_test = load_CIFAR10(cifar10_dir)\n",
    "        \n",
    "    # Subsample the data\n",
    "    mask = list(range(num_training, num_training + num_validation))\n",
    "    X_val = X_train[mask]\n",
    "    y_val = y_train[mask]\n",
    "    mask = list(range(num_training))\n",
    "    X_train = X_train[mask]\n",
    "    y_train = y_train[mask]\n",
    "    mask = list(range(num_test))\n",
    "    X_test = X_test[mask]\n",
    "    y_test = y_test[mask]\n",
    "\n",
    "    # Normalize the data: subtract the mean image\n",
    "    mean_image = np.mean(X_train, axis=0)\n",
    "    X_train -= mean_image\n",
    "    X_val -= mean_image\n",
    "    X_test -= mean_image\n",
    "\n",
    "    # Reshape data to rows\n",
    "    X_train = X_train.reshape(num_training, -1)\n",
    "    X_val = X_val.reshape(num_validation, -1)\n",
    "    X_test = X_test.reshape(num_test, -1)\n",
    "\n",
    "    return X_train, y_train, X_val, y_val, X_test, y_test\n",
    "\n",
    "\n",
    "# Invoke the above function to get our data.\n",
    "X_train, y_train, X_val, y_val, X_test, y_test = get_CIFAR10_data()\n",
    "print('Train data shape: ', X_train.shape)\n",
    "print('Train labels shape: ', y_train.shape)\n",
    "print('Validation data shape: ', X_val.shape)\n",
    "print('Validation labels shape: ', y_val.shape)\n",
    "print('Test data shape: ', X_test.shape)\n",
    "print('Test labels shape: ', y_test.shape)"
   ]
  },
  {
   "cell_type": "markdown",
   "metadata": {},
   "source": [
    "### Running SGD\n",
    "\n",
    "If your implementation is correct, you should see a validation accuracy of around 15-18%."
   ]
  },
  {
   "cell_type": "code",
   "execution_count": 20,
   "metadata": {},
   "outputs": [
    {
     "name": "stdout",
     "output_type": "stream",
     "text": [
      "iteration 0 / 1000: loss 0.5000623457905098\n",
      "iteration 100 / 1000: loss 0.4998246529435278\n",
      "iteration 200 / 1000: loss 0.4995946718475304\n",
      "iteration 300 / 1000: loss 0.49933536166627984\n",
      "iteration 400 / 1000: loss 0.4989962372581251\n",
      "iteration 500 / 1000: loss 0.49847178744773624\n",
      "iteration 600 / 1000: loss 0.49758927830530253\n",
      "iteration 700 / 1000: loss 0.4966248113033766\n",
      "iteration 800 / 1000: loss 0.4958001901438695\n",
      "iteration 900 / 1000: loss 0.4939583435911163\n",
      "Validation accuracy:  0.172\n"
     ]
    }
   ],
   "source": [
    "input_size = 32 * 32 * 3\n",
    "hidden_size = 50\n",
    "num_classes = 10\n",
    "net = TwoLayerNet(input_size, hidden_size, num_classes)\n",
    "\n",
    "# Train the network\n",
    "net = init_toy_model()\n",
    "stats = net.train(X_train, y_train, X_val, y_val,\n",
    "            num_iters=1000, batch_size=200,\n",
    "            learning_rate=1e-5, learning_rate_decay=0.95,\n",
    "            reg=0.1, verbose=True)\n",
    "\n",
    "# Predict on the validation set\n",
    "val_acc = (net.predict(X_val) == y_val).mean()\n",
    "print('Validation accuracy: ', val_acc)\n",
    "\n",
    "# Save this net as the variable subopt_net for later comparison.\n",
    "subopt_net = net"
   ]
  },
  {
   "cell_type": "code",
   "execution_count": 21,
   "metadata": {
    "scrolled": true
   },
   "outputs": [
    {
     "data": {
      "text/plain": [
       "[0.09, 0.15, 0.225, 0.195, 0.225]"
      ]
     },
     "execution_count": 21,
     "metadata": {},
     "output_type": "execute_result"
    }
   ],
   "source": [
    "stats['train_acc_history']"
   ]
  },
  {
   "cell_type": "code",
   "execution_count": 22,
   "metadata": {},
   "outputs": [
    {
     "data": {
      "image/png": "[encoded data removed]",
      "text/plain": [
       "<matplotlib.figure.Figure at 0x10b973198>"
      ]
     },
     "metadata": {},
     "output_type": "display_data"
    }
   ],
   "source": [
    "# Plot the loss function and train / validation accuracies\n",
    "plt.subplot(2, 1, 1)\n",
    "plt.plot(stats['loss_history'])\n",
    "plt.xlabel('Iteration')\n",
    "plt.ylabel('Loss')\n",
    "\n",
    "plt.subplot(2, 1, 2)\n",
    "plt.plot(stats['train_acc_history'], label='train')\n",
    "plt.plot(stats['val_acc_history'], label='val')\n",
    "plt.xlabel('Iteration')\n",
    "plt.ylabel('Accuracy')\n",
    "\n",
    "plt.show()"
   ]
  },
  {
   "cell_type": "markdown",
   "metadata": {},
   "source": [
    "### Questions:\n",
    "\n",
    "The training accuracy isn't great. It seems even worse than simple KNN model, which is not as good as expected.\n",
    "\n",
    "(1) What are some of the reasons why this is the case?  Take the following cell to do some analyses and then report your answers in the cell following the one below.\n",
    "\n",
    "(2) How should you fix the problems you identified in (1)?"
   ]
  },
  {
   "cell_type": "markdown",
   "metadata": {},
   "source": [
    "### Answers:"
   ]
  },
  {
   "cell_type": "markdown",
   "metadata": {},
   "source": [
    "(1) We have not properly tuned our neural network. We have only tried a single subset of the infinite possibilities of combinations of hyperparameters. There are many more possibilities that may lead to higher validation accuracies. In addition, this is only a two-layer neural network, so it is not as rigorous as may be necessary for such a complex data set such as animals. \n",
    "\n",
    "(2) With proper tuning, we may be able to increase our validation accuracy by finding the correct set of hyperparameters. In addition, we could also increase the validation accuracy by perhaps increase the number of hidden layers\n",
    "\n"
   ]
  },
  {
   "cell_type": "markdown",
   "metadata": {},
   "source": [
    "## Optimize the neural network\n",
    "\n",
    "Use the following part of the Jupyter notebook to optimize your hyperparameters on the validation set.  Store your nets as best_net."
   ]
  },
  {
   "cell_type": "code",
   "execution_count": null,
   "metadata": {},
   "outputs": [
    {
     "name": "stdout",
     "output_type": "stream",
     "text": [
      "iteration 0 / 1000: loss 0.37026563872556123\n",
      "iteration 100 / 1000: loss 0.3522638702411087\n",
      "iteration 200 / 1000: loss 0.3647399601200092\n",
      "iteration 300 / 1000: loss 0.3749135815809366\n",
      "iteration 400 / 1000: loss 0.3611718575189775\n",
      "iteration 500 / 1000: loss 0.3604829586505799\n",
      "iteration 600 / 1000: loss 0.35973516259432264\n",
      "iteration 700 / 1000: loss 0.37049590396638615\n",
      "iteration 800 / 1000: loss 0.3560520414565654\n",
      "iteration 900 / 1000: loss 0.3600409405383835\n",
      "Validation accuracy:  0.47\n",
      "learning_rate: 1e-05, iterations: 1000, batch_sizes: 500, lrdecay: 0.95, regularization: 0.1\n",
      "iteration 0 / 1000: loss 0.3643298777960777\n",
      "iteration 100 / 1000: loss 0.367586115653024\n",
      "iteration 200 / 1000: loss 0.3630451928281846\n",
      "iteration 300 / 1000: loss 0.36057178704432974\n",
      "iteration 400 / 1000: loss 0.363068439019177\n",
      "iteration 500 / 1000: loss 0.3702426332342884\n",
      "iteration 600 / 1000: loss 0.3621039489720832\n",
      "iteration 700 / 1000: loss 0.35464148278368646\n",
      "iteration 800 / 1000: loss 0.3686273384496638\n",
      "iteration 900 / 1000: loss 0.35338619214304823\n",
      "Validation accuracy:  0.47\n",
      "learning_rate: 1e-05, iterations: 1000, batch_sizes: 500, lrdecay: 0.95, regularization: 0.25\n",
      "iteration 0 / 1000: loss 0.36787737640529106\n",
      "iteration 100 / 1000: loss 0.3669790820317362\n",
      "iteration 200 / 1000: loss 0.3631326891050449\n",
      "iteration 300 / 1000: loss 0.35932881659845056\n",
      "iteration 400 / 1000: loss 0.35205274585285046\n",
      "iteration 500 / 1000: loss 0.36142147098650274\n",
      "iteration 600 / 1000: loss 0.3726837104759883\n",
      "iteration 700 / 1000: loss 0.36645538942024525\n",
      "iteration 800 / 1000: loss 0.3627325318789199\n",
      "iteration 900 / 1000: loss 0.3624165263454334\n",
      "Validation accuracy:  0.47\n",
      "learning_rate: 1e-05, iterations: 1000, batch_sizes: 500, lrdecay: 0.95, regularization: 0.5\n",
      "iteration 0 / 1000: loss 0.3637479204276327\n",
      "iteration 100 / 1000: loss 0.3648841408438033\n",
      "iteration 200 / 1000: loss 0.3676437949715831\n",
      "iteration 300 / 1000: loss 0.37438780984910497\n",
      "iteration 400 / 1000: loss 0.37040823915931237\n"
     ]
    }
   ],
   "source": [
    "best_net = None # store the best model into this \n",
    "\n",
    "# ================================================================ #\n",
    "# YOUR CODE HERE:\n",
    "#   Optimize over your hyperparameters to arrive at the best neural\n",
    "#   network.  You should be able to get over 45% validation accuracy.\n",
    "#   For this part of the notebook, we will give credit based on the\n",
    "#   accuracy you get.  Your score on this question will be multiplied by:\n",
    "#      min(floor((X - 23%)) / %22, 1) \n",
    "#   where if you get 50% or higher validation accuracy, you get full\n",
    "#   points.\n",
    "#\n",
    "#   Note, you need to use the same network structure (keep hidden_size = 50)!\n",
    "# ================================================================ #\n",
    "\n",
    "# todo: optimal parameter search (you can use grid search by for-loops )\n",
    "\n",
    "input_size = 32 * 32 * 3 # do not change\n",
    "hidden_size = 50 # do not change\n",
    "num_classes = 10 # do not change\n",
    "best_valacc = 0 # do not change\n",
    "\n",
    "# Train the network and find best parameter: \n",
    "\n",
    "optimal_settings = ''\n",
    "learning_rates = [1e-5, 1e-4, 1e-2, 1e-1]\n",
    "decays = [0.95, 0.9, 0.8, 0.75, 0.6]\n",
    "regularizations = [0.1, 0.25, 0.5, 1, 2, 4]\n",
    "\n",
    "for lr in learning_rates:\n",
    "    for d in decays:\n",
    "        for regz in regularizations:\n",
    "            stats = net.train(X_train, y_train, X_val, y_val, num_iters=1000, batch_size=500, learning_rate=lr, learning_rate_decay=d, reg=regz, verbose=True)\n",
    "            val_acc = (net.predict(X_val) == y_val).mean()\n",
    "            print('Validation accuracy: ', val_acc)\n",
    "            print('learning_rate: {}, iterations: {}, batch_sizes: {}, lrdecay: {}, regularization: {}'.format(lr, 1000, 500, d, regz))\n",
    "            if val_acc > best_valacc:\n",
    "                best_valacc = val_acc\n",
    "                best_net = net\n",
    "                optimal_settings = 'learning_rate: {}, iterations: {}, batch_sizes: {}, lrdecay: {}, regularization: {}'.format(lr, 1000, 500, d, regz)\n",
    "                        \n",
    "\n",
    "# Output your results\n",
    "print(\"== Best parameter settings ==\")\n",
    "print(optimal_settings)\n",
    "print(\"Best accuracy on validation set: {}\".format(best_valacc))\n",
    "# ================================================================ #\n",
    "# END YOUR CODE HERE\n",
    "# ================================================================ #"
   ]
  },
  {
   "cell_type": "markdown",
   "metadata": {},
   "source": [
    "### Quesions\n",
    "\n",
    "(1) What is your best parameter settings? (Output from the previous cell)\n",
    "\n",
    "(2) What parameters did you tune? How are they changing the performance of nerural network? You can discuss any observations from the optimization."
   ]
  },
  {
   "cell_type": "markdown",
   "metadata": {},
   "source": [
    "### Answers"
   ]
  },
  {
   "cell_type": "markdown",
   "metadata": {},
   "source": [
    "(1)\n",
    "\n",
    "(2)\n",
    "\n",
    "At first, I decided to tune all of the paramaters with nested for loops"
   ]
  },
  {
   "cell_type": "markdown",
   "metadata": {},
   "source": [
    "## Visualize the weights of your neural networks"
   ]
  },
  {
   "cell_type": "code",
   "execution_count": null,
   "metadata": {},
   "outputs": [],
   "source": [
    "from cs145.vis_utils import visualize_grid\n",
    "\n",
    "# Visualize the weights of the network\n",
    "\n",
    "def show_net_weights(net):\n",
    "    W1 = net.params['W1']\n",
    "    W1 = W1.T.reshape(32, 32, 3, -1).transpose(3, 0, 1, 2)\n",
    "    plt.imshow(visualize_grid(W1, padding=3).astype('uint8'))\n",
    "    plt.gca().axis('off')\n",
    "    plt.show()\n",
    "\n",
    "show_net_weights(subopt_net)\n",
    "show_net_weights(best_net)"
   ]
  },
  {
   "cell_type": "markdown",
   "metadata": {},
   "source": [
    "### Questions:\n",
    "\n",
    "What differences do you see in the weights between the suboptimal net and the best net you arrived at? What do the weights in neural networks probably learn after training?"
   ]
  },
  {
   "cell_type": "markdown",
   "metadata": {},
   "source": [
    "### Answer:\n"
   ]
  },
  {
   "cell_type": "markdown",
   "metadata": {},
   "source": [
    "---"
   ]
  },
  {
   "cell_type": "markdown",
   "metadata": {},
   "source": [
    "## Evaluate on test set "
   ]
  },
  {
   "cell_type": "code",
   "execution_count": null,
   "metadata": {},
   "outputs": [],
   "source": [
    "test_acc = (best_net.predict(X_test) == y_test).mean()\n",
    "#test_acc = (subopt_net.predict(X_test) == y_test).mean()\n",
    "print('Test accuracy: ', test_acc)"
   ]
  },
  {
   "cell_type": "markdown",
   "metadata": {},
   "source": [
    "### Questions:\n",
    "(1) What is your test accuracy by using the best NN you have got? How much does the performance increase compared with kNN? Why can neural networks perform better than kNN?\n",
    "\n",
    "(2) Do you have any other ideas or suggestions to further improve the performance of neural networks other than the parameters you have tried in the homework? "
   ]
  },
  {
   "cell_type": "markdown",
   "metadata": {},
   "source": [
    "### Answers:"
   ]
  },
  {
   "cell_type": "markdown",
   "metadata": {},
   "source": [
    "---"
   ]
  },
  {
   "cell_type": "markdown",
   "metadata": {},
   "source": [
    "## Bonus Question: Change MSE Loss to Cross Entropy Loss"
   ]
  },
  {
   "cell_type": "markdown",
   "metadata": {},
   "source": [
    "This is a bonus question. If you finish this (cross entropy loss) correctly, you will get **up to 20 points** (add up to your HW3 score). \n",
    "\n",
    "Note: From grading policy of this course, your maximum points from homework are still 25 out of 100, but you can use the bonus question to make up other deduction of other assignments."
   ]
  },
  {
   "cell_type": "markdown",
   "metadata": {},
   "source": [
    "Pass output scores in networks from forward pass into softmax function. The softmax function is defined as,\n",
    "$$p_j = \\sigma(z_j) = \\frac{e^{z_j}}{\\sum_{c=1}^{C} e^{z_c}}$$\n",
    "After softmax, the scores can be considered as probability of $j$-th class.\n",
    "\n",
    "The cross entropy loss is defined as,\n",
    "$$L = L_{\\text{CE}}+L_{reg} = \\frac{1}{N}\\sum_{i=1}^{N} \\log \\left(p_{i,j}\\right)+ \\frac{\\lambda}{2} \\left(||W_1||^2 + ||W_2||^2 \\right)$$\n",
    "\n",
    "To take derivative of this loss, you will get the gradient as,\n",
    "$$\\frac{\\partial L_{\\text{CE}}}{\\partial o_i} = p_i - y_i $$\n",
    "\n",
    "More details about multi-class cross entropy loss, please check [http://cs231n.github.io/linear-classify/](http://cs231n.github.io/linear-classify/) and [more explanation](https://deepnotes.io/softmax-crossentropy) about the derivative of cross entropy."
   ]
  },
  {
   "cell_type": "markdown",
   "metadata": {},
   "source": [
    "Change the loss from MSE to cross entropy, you only need to change you ```MSE_loss(x,y)``` in ```TwoLayerNet.loss()``` function to ```softmax_loss(x,y)```."
   ]
  },
  {
   "cell_type": "markdown",
   "metadata": {},
   "source": [
    "**Now you are free to use any code to show your results of the two-layer networks with newly-implemented cross entropy loss. You can use code from previous cells.**"
   ]
  },
  {
   "cell_type": "code",
   "execution_count": null,
   "metadata": {},
   "outputs": [],
   "source": [
    "# Start training your networks and show your results"
   ]
  },
  {
   "cell_type": "code",
   "execution_count": null,
   "metadata": {},
   "outputs": [],
   "source": []
  }
 ],
 "metadata": {
  "kernelspec": {
   "display_name": "Python 3",
   "language": "python",
   "name": "python3"
  },
  "language_info": {
   "codemirror_mode": {
    "name": "ipython",
    "version": 3
   },
   "file_extension": ".py",
   "mimetype": "text/x-python",
   "name": "python",
   "nbconvert_exporter": "python",
   "pygments_lexer": "ipython3",
   "version": "3.6.5"
  }
 },
 "nbformat": 4,
 "nbformat_minor": 2
}
