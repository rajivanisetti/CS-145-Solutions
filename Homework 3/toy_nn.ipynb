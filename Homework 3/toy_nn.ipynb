{
 "cells": [
  {
   "cell_type": "markdown",
   "metadata": {},
   "source": [
    "# Two-layer Neural Network Workbook for CS145 Homework 3\n",
    "\n",
    "----\n",
    "<span style=\"color:red\">**PRINT YOUR NAME AND UID HERE!**</span>\n",
    "\n",
    "NAME: [Anisetti, Rajiv] UID: [904801422]\n",
    "\n",
    "----\n",
    "\n",
    "\n",
    "Please follow the notebook linearly to implement a two layer neural network.\n",
    "\n",
    "Please print out the workbook entirely when completed.\n",
    "\n",
    "The goal of this workbook is to give you experience with training a two layer neural network.\n",
    "\n",
    "---"
   ]
  },
  {
   "cell_type": "markdown",
   "metadata": {},
   "source": [
    "Import libraries and define relative error function, which is used to check results later. "
   ]
  },
  {
   "cell_type": "code",
   "execution_count": 1,
   "metadata": {},
   "outputs": [],
   "source": [
    "import random\n",
    "import numpy as np\n",
    "from cs145.data_utils import load_CIFAR10\n",
    "import matplotlib.pyplot as plt\n",
    "\n",
    "%matplotlib inline\n",
    "plt.rcParams['figure.figsize'] = (10.0, 8.0)\n",
    "%load_ext autoreload\n",
    "%autoreload 2\n",
    "\n",
    "def rel_error(x, y):\n",
    "    \"\"\" returns relative error \"\"\"\n",
    "    return np.max(np.abs(x - y) / (np.maximum(1e-8, np.abs(x) + np.abs(y))))"
   ]
  },
  {
   "cell_type": "markdown",
   "metadata": {},
   "source": [
    "## Toy example\n",
    "\n",
    "Before loading CIFAR-10, there will be a toy example to test your implementation of the forward and backward pass."
   ]
  },
  {
   "cell_type": "code",
   "execution_count": 4,
   "metadata": {},
   "outputs": [],
   "source": [
    "from lib.neural_net import TwoLayerNet"
   ]
  },
  {
   "cell_type": "code",
   "execution_count": 5,
   "metadata": {},
   "outputs": [],
   "source": [
    "# Create a small net and some toy data to check your implementations.\n",
    "# Note that we set the random seed for repeatable experiments.\n",
    "\n",
    "input_size = 4\n",
    "hidden_size = 10\n",
    "num_classes = 3\n",
    "num_inputs = 5\n",
    "\n",
    "def init_toy_model():\n",
    "    np.random.seed(0)\n",
    "    return TwoLayerNet(input_size, hidden_size, num_classes, std=1e-1)\n",
    "\n",
    "def init_toy_data():\n",
    "    np.random.seed(1)\n",
    "    X = 10 * np.random.randn(num_inputs, input_size)\n",
    "    y = np.array([0, 1, 2, 2, 1])\n",
    "    return X, y\n",
    "\n",
    "net = init_toy_model()\n",
    "X, y = init_toy_data()"
   ]
  },
  {
   "cell_type": "markdown",
   "metadata": {},
   "source": [
    "### Compute forward pass scores"
   ]
  },
  {
   "cell_type": "code",
   "execution_count": 6,
   "metadata": {},
   "outputs": [
    {
     "name": "stdout",
     "output_type": "stream",
     "text": [
      "Your scores:\n",
      "[[-1.07260209  0.05083871 -0.87253915]\n",
      " [-2.02778743 -0.10832494 -1.52641362]\n",
      " [-0.74225908  0.15259725 -0.39578548]\n",
      " [-0.38172726  0.10835902 -0.17328274]\n",
      " [-0.64417314 -0.18886813 -0.41106892]]\n",
      "\n",
      "correct scores:\n",
      "[[-1.07260209  0.05083871 -0.87253915]\n",
      " [-2.02778743 -0.10832494 -1.52641362]\n",
      " [-0.74225908  0.15259725 -0.39578548]\n",
      " [-0.38172726  0.10835902 -0.17328274]\n",
      " [-0.64417314 -0.18886813 -0.41106892]]\n",
      "\n",
      "Difference between your scores and correct scores:\n",
      "3.381231210991542e-08\n"
     ]
    }
   ],
   "source": [
    "## Implement the forward pass of the neural network.\n",
    "\n",
    "# Note, there is a statement if y is None: return scores, which is why \n",
    "# the following call will calculate the scores.\n",
    "scores = net.loss(X)\n",
    "print('Your scores:')\n",
    "print(scores)\n",
    "print()\n",
    "print('correct scores:')\n",
    "correct_scores = np.asarray([\n",
    "    [-1.07260209,  0.05083871, -0.87253915],\n",
    "    [-2.02778743, -0.10832494, -1.52641362],\n",
    "    [-0.74225908,  0.15259725, -0.39578548],\n",
    "    [-0.38172726,  0.10835902, -0.17328274],\n",
    "    [-0.64417314, -0.18886813, -0.41106892]])\n",
    "print(correct_scores)\n",
    "print()\n",
    "\n",
    "# The difference should be very small. We get < 1e-7\n",
    "print('Difference between your scores and correct scores:')\n",
    "print(np.sum(np.abs(scores - correct_scores)))"
   ]
  },
  {
   "cell_type": "markdown",
   "metadata": {},
   "source": [
    "### Forward pass loss\n",
    "\n",
    "The total loss includes data loss (MSE) and regularization loss, which is,\n",
    "\n",
    "$$L = L_{data}+L_{reg} = \\frac{1}{2N}\\sum_{i=1}^{N}\\left(\\boldsymbol{y}_{\\text{pred}}-\\boldsymbol{y}_{\\text{target}}\\right)^2 + \\frac{\\lambda}{2} \\left(||W_1||^2 + ||W_2||^2 \\right)$$\n",
    "\n",
    "More specifically in multi-class situation, if the output of neural nets from one sample is $y_{\\text{pred}}=(0.1,0.1,0.8)$ and $y_{\\text{target}}=(0,0,1)$ from the given label, then the MSE error will be $Error=(0.1-0)^2+(0.1-0)^2+(0.8-1)^2=0.06$\n",
    "\n",
    "Implement data loss and regularization loss. In the MSE function, you also need to return the gradients which need to be passed backward. This is similar to batch gradient in linear regression. Test your implementation of loss functions. The Difference should be less than 1e-12."
   ]
  },
  {
   "cell_type": "code",
   "execution_count": 16,
   "metadata": {},
   "outputs": [
    {
     "name": "stdout",
     "output_type": "stream",
     "text": [
      "Difference between your loss and correct loss:\n",
      "0.0\n"
     ]
    }
   ],
   "source": [
    "loss, _ = net.loss(X, y, reg=0.05)\n",
    "correct_loss_MSE = 1.8973332763705641 # check this number\n",
    "\n",
    "# should be very small, we get < 1e-12\n",
    "print('Difference between your loss and correct loss:')\n",
    "print(np.sum(np.abs(loss - correct_loss_MSE)))"
   ]
  },
  {
   "cell_type": "markdown",
   "metadata": {},
   "source": [
    "### Backward pass (You do not need to implemented this part)\n",
    "\n",
    "We have already implemented the backwards pass of the neural network for you.  Run the block of code to check your gradients with the gradient check utilities provided. The results should be automatically correct (tiny relative error).\n",
    "\n",
    "If there is a gradient error larger than 1e-8, the training for neural networks later will be negatively affected."
   ]
  },
  {
   "cell_type": "code",
   "execution_count": 17,
   "metadata": {},
   "outputs": [
    {
     "name": "stdout",
     "output_type": "stream",
     "text": [
      "W2 max relative error: 8.800911222099066e-11\n",
      "b2 max relative error: 2.4554844805570154e-11\n",
      "W1 max relative error: 1.7476665046687833e-09\n",
      "b1 max relative error: 7.382451041178829e-10\n"
     ]
    }
   ],
   "source": [
    "from cs145.gradient_check import eval_numerical_gradient\n",
    "\n",
    "# Use numeric gradient checking to check your implementation of the backward pass.\n",
    "# If your implementation is correct, the difference between the numeric and\n",
    "# analytic gradients should be less than 1e-8 for each of W1, W2, b1, and b2.\n",
    "\n",
    "loss, grads = net.loss(X, y, reg=0.05)\n",
    "\n",
    "# these should all be less than 1e-8 or so\n",
    "for param_name in grads:\n",
    "    f = lambda W: net.loss(X, y, reg=0.05)[0]\n",
    "    param_grad_num = eval_numerical_gradient(f, net.params[param_name], verbose=False)\n",
    "    print('{} max relative error: {}'.format(param_name, rel_error(param_grad_num, grads[param_name])))"
   ]
  },
  {
   "cell_type": "markdown",
   "metadata": {},
   "source": [
    "### Training the network\n",
    "\n",
    "Implement neural_net.train() to train the network via stochastic gradient descent, much like the linear regression."
   ]
  },
  {
   "cell_type": "code",
   "execution_count": 18,
   "metadata": {},
   "outputs": [
    {
     "name": "stdout",
     "output_type": "stream",
     "text": [
      "Final training loss:  0.02950555626206818\n"
     ]
    },
    {
     "data": {
      "image/png": "[encoded data removed]",
      "text/plain": [
       "<matplotlib.figure.Figure at 0x10b9d2b00>"
      ]
     },
     "metadata": {},
     "output_type": "display_data"
    }
   ],
   "source": [
    "net = init_toy_model()\n",
    "stats = net.train(X, y, X, y,\n",
    "            learning_rate=1e-1, reg=5e-6,\n",
    "            num_iters=100, verbose=False)\n",
    "\n",
    "print('Final training loss: ', stats['loss_history'][-1])\n",
    "\n",
    "# plot the loss history\n",
    "plt.plot(stats['loss_history'])\n",
    "plt.xlabel('iteration')\n",
    "plt.ylabel('training loss')\n",
    "plt.title('Training Loss history')\n",
    "plt.show()"
   ]
  },
  {
   "cell_type": "markdown",
   "metadata": {},
   "source": [
    "## Classify CIFAR-10\n",
    "\n",
    "Do classification on the CIFAR-10 dataset."
   ]
  },
  {
   "cell_type": "code",
   "execution_count": 19,
   "metadata": {},
   "outputs": [
    {
     "name": "stdout",
     "output_type": "stream",
     "text": [
      "Train data shape:  (49000, 3072)\n",
      "Train labels shape:  (49000,)\n",
      "Validation data shape:  (1000, 3072)\n",
      "Validation labels shape:  (1000,)\n",
      "Test data shape:  (1000, 3072)\n",
      "Test labels shape:  (1000,)\n"
     ]
    }
   ],
   "source": [
    "from cs145.data_utils import load_CIFAR10\n",
    "\n",
    "def get_CIFAR10_data(num_training=49000, num_validation=1000, num_test=1000):\n",
    "    \"\"\"\n",
    "    Load the CIFAR-10 dataset from disk and perform preprocessing to prepare\n",
    "    it for the two-layer neural net classifier. These are the same steps as\n",
    "    we used for the SVM, but condensed to a single function.  \n",
    "    \"\"\"\n",
    "    # Load the raw CIFAR-10 data\n",
    "    cifar10_dir = './cs145/datasets/cifar-10-batches-py'\n",
    "    X_train, y_train, X_test, y_test = load_CIFAR10(cifar10_dir)\n",
    "        \n",
    "    # Subsample the data\n",
    "    mask = list(range(num_training, num_training + num_validation))\n",
    "    X_val = X_train[mask]\n",
    "    y_val = y_train[mask]\n",
    "    mask = list(range(num_training))\n",
    "    X_train = X_train[mask]\n",
    "    y_train = y_train[mask]\n",
    "    mask = list(range(num_test))\n",
    "    X_test = X_test[mask]\n",
    "    y_test = y_test[mask]\n",
    "\n",
    "    # Normalize the data: subtract the mean image\n",
    "    mean_image = np.mean(X_train, axis=0)\n",
    "    X_train -= mean_image\n",
    "    X_val -= mean_image\n",
    "    X_test -= mean_image\n",
    "\n",
    "    # Reshape data to rows\n",
    "    X_train = X_train.reshape(num_training, -1)\n",
    "    X_val = X_val.reshape(num_validation, -1)\n",
    "    X_test = X_test.reshape(num_test, -1)\n",
    "\n",
    "    return X_train, y_train, X_val, y_val, X_test, y_test\n",
    "\n",
    "\n",
    "# Invoke the above function to get our data.\n",
    "X_train, y_train, X_val, y_val, X_test, y_test = get_CIFAR10_data()\n",
    "print('Train data shape: ', X_train.shape)\n",
    "print('Train labels shape: ', y_train.shape)\n",
    "print('Validation data shape: ', X_val.shape)\n",
    "print('Validation labels shape: ', y_val.shape)\n",
    "print('Test data shape: ', X_test.shape)\n",
    "print('Test labels shape: ', y_test.shape)"
   ]
  },
  {
   "cell_type": "markdown",
   "metadata": {},
   "source": [
    "### Running SGD\n",
    "\n",
    "If your implementation is correct, you should see a validation accuracy of around 15-18%."
   ]
  },
  {
   "cell_type": "code",
   "execution_count": 20,
   "metadata": {},
   "outputs": [
    {
     "name": "stdout",
     "output_type": "stream",
     "text": [
      "iteration 0 / 1000: loss 0.5000623457905098\n",
      "iteration 100 / 1000: loss 0.4998246529435278\n",
      "iteration 200 / 1000: loss 0.4995946718475304\n",
      "iteration 300 / 1000: loss 0.49933536166627984\n",
      "iteration 400 / 1000: loss 0.4989962372581251\n",
      "iteration 500 / 1000: loss 0.49847178744773624\n",
      "iteration 600 / 1000: loss 0.49758927830530253\n",
      "iteration 700 / 1000: loss 0.4966248113033766\n",
      "iteration 800 / 1000: loss 0.4958001901438695\n",
      "iteration 900 / 1000: loss 0.4939583435911163\n",
      "Validation accuracy:  0.172\n"
     ]
    }
   ],
   "source": [
    "input_size = 32 * 32 * 3\n",
    "hidden_size = 50\n",
    "num_classes = 10\n",
    "net = TwoLayerNet(input_size, hidden_size, num_classes)\n",
    "\n",
    "# Train the network\n",
    "net = init_toy_model()\n",
    "stats = net.train(X_train, y_train, X_val, y_val,\n",
    "            num_iters=1000, batch_size=200,\n",
    "            learning_rate=1e-5, learning_rate_decay=0.95,\n",
    "            reg=0.1, verbose=True)\n",
    "\n",
    "# Predict on the validation set\n",
    "val_acc = (net.predict(X_val) == y_val).mean()\n",
    "print('Validation accuracy: ', val_acc)\n",
    "\n",
    "# Save this net as the variable subopt_net for later comparison.\n",
    "subopt_net = net"
   ]
  },
  {
   "cell_type": "code",
   "execution_count": 21,
   "metadata": {
    "scrolled": true
   },
   "outputs": [
    {
     "data": {
      "text/plain": [
       "[0.09, 0.15, 0.225, 0.195, 0.225]"
      ]
     },
     "execution_count": 21,
     "metadata": {},
     "output_type": "execute_result"
    }
   ],
   "source": [
    "stats['train_acc_history']"
   ]
  },
  {
   "cell_type": "code",
   "execution_count": 22,
   "metadata": {},
   "outputs": [
    {
     "data": {
      "image/png": "[encoded data removed]",
      "text/plain": [
       "<matplotlib.figure.Figure at 0x10b973198>"
      ]
     },
     "metadata": {},
     "output_type": "display_data"
    }
   ],
   "source": [
    "# Plot the loss function and train / validation accuracies\n",
    "plt.subplot(2, 1, 1)\n",
    "plt.plot(stats['loss_history'])\n",
    "plt.xlabel('Iteration')\n",
    "plt.ylabel('Loss')\n",
    "\n",
    "plt.subplot(2, 1, 2)\n",
    "plt.plot(stats['train_acc_history'], label='train')\n",
    "plt.plot(stats['val_acc_history'], label='val')\n",
    "plt.xlabel('Iteration')\n",
    "plt.ylabel('Accuracy')\n",
    "\n",
    "plt.show()"
   ]
  },
  {
   "cell_type": "markdown",
   "metadata": {},
   "source": [
    "### Questions:\n",
    "\n",
    "The training accuracy isn't great. It seems even worse than simple KNN model, which is not as good as expected.\n",
    "\n",
    "(1) What are some of the reasons why this is the case?  Take the following cell to do some analyses and then report your answers in the cell following the one below.\n",
    "\n",
    "(2) How should you fix the problems you identified in (1)?"
   ]
  },
  {
   "cell_type": "markdown",
   "metadata": {},
   "source": [
    "### Answers:"
   ]
  },
  {
   "cell_type": "markdown",
   "metadata": {},
   "source": [
    "(1) We have not properly tuned our neural network. We have only tried a single subset of the infinite possibilities of combinations of hyperparameters. There are many more possibilities that may lead to higher validation accuracies. In addition, this is only a two-layer neural network, so it is not as rigorous as may be necessary for such a complex data set such as animals. \n",
    "\n",
    "(2) With proper tuning, we may be able to increase our validation accuracy by finding the correct set of hyperparameters. In addition, we could also increase the validation accuracy by perhaps increase the number of hidden layers, making us have a more complex and accurate neural network.\n",
    "\n"
   ]
  },
  {
   "cell_type": "markdown",
   "metadata": {},
   "source": [
    "## Optimize the neural network\n",
    "\n",
    "Use the following part of the Jupyter notebook to optimize your hyperparameters on the validation set.  Store your nets as best_net."
   ]
  },
  {
   "cell_type": "code",
   "execution_count": 33,
   "metadata": {},
   "outputs": [
    {
     "name": "stdout",
     "output_type": "stream",
     "text": [
      "iteration 0 / 1000: loss 0.4707053578994485\n",
      "iteration 100 / 1000: loss 0.453558022225583\n",
      "iteration 200 / 1000: loss 0.44429485447466344\n",
      "iteration 300 / 1000: loss 0.43834460125541624\n",
      "iteration 400 / 1000: loss 0.4373454154462407\n",
      "iteration 500 / 1000: loss 0.43139539537264004\n",
      "iteration 600 / 1000: loss 0.4358588820793203\n",
      "iteration 700 / 1000: loss 0.4303847260818199\n",
      "iteration 800 / 1000: loss 0.4277158254124888\n",
      "iteration 900 / 1000: loss 0.4233589750216512\n",
      "Validation accuracy:  0.277\n",
      "learning_rate: 0.0001, iterations: 1000, batch_sizes: 500, lrdecay: 0.8, regularization: 1\n",
      "iteration 0 / 1000: loss 0.43421452082865464\n",
      "iteration 100 / 1000: loss 0.42560854112846186\n",
      "iteration 200 / 1000: loss 0.4213644216220823\n",
      "iteration 300 / 1000: loss 0.42441302064457465\n",
      "iteration 400 / 1000: loss 0.4146334397995836\n",
      "iteration 500 / 1000: loss 0.41982300749524293\n",
      "iteration 600 / 1000: loss 0.41997039507282585\n",
      "iteration 700 / 1000: loss 0.4127416502204362\n",
      "iteration 800 / 1000: loss 0.41202789372502774\n",
      "iteration 900 / 1000: loss 0.4153315475358199\n",
      "Validation accuracy:  0.312\n",
      "learning_rate: 0.0001, iterations: 1000, batch_sizes: 500, lrdecay: 0.8, regularization: 2\n",
      "iteration 0 / 1000: loss 0.41348055547643275\n",
      "iteration 100 / 1000: loss 0.4147680937707185\n",
      "iteration 200 / 1000: loss 0.4144201177847017\n",
      "iteration 300 / 1000: loss 0.41773995071792663\n",
      "iteration 400 / 1000: loss 0.4106467698315073\n",
      "iteration 500 / 1000: loss 0.41299426362253416\n",
      "iteration 600 / 1000: loss 0.4107363563981379\n",
      "iteration 700 / 1000: loss 0.4078587529148604\n",
      "iteration 800 / 1000: loss 0.4069830266976554\n",
      "iteration 900 / 1000: loss 0.4088805974263196\n",
      "Validation accuracy:  0.344\n",
      "learning_rate: 0.0001, iterations: 1000, batch_sizes: 500, lrdecay: 0.8, regularization: 4\n",
      "iteration 0 / 1000: loss 0.4017859190946795\n",
      "iteration 100 / 1000: loss 0.40548404729029386\n",
      "iteration 200 / 1000: loss 0.39876016922005453\n",
      "iteration 300 / 1000: loss 0.40113700710959493\n",
      "iteration 400 / 1000: loss 0.3971256005024041\n",
      "iteration 500 / 1000: loss 0.39774388821338313\n",
      "iteration 600 / 1000: loss 0.3943972727230799\n",
      "iteration 700 / 1000: loss 0.3875486796850354\n",
      "iteration 800 / 1000: loss 0.401768471961104\n",
      "iteration 900 / 1000: loss 0.39897234483918675\n",
      "Validation accuracy:  0.36\n",
      "learning_rate: 0.0001, iterations: 1000, batch_sizes: 500, lrdecay: 0.75, regularization: 1\n",
      "iteration 0 / 1000: loss 0.39335991045368973\n",
      "iteration 100 / 1000: loss 0.3996494307898912\n",
      "iteration 200 / 1000: loss 0.3990212473093581\n",
      "iteration 300 / 1000: loss 0.4025502604266643\n",
      "iteration 400 / 1000: loss 0.4051119003608496\n",
      "iteration 500 / 1000: loss 0.39815510277920474\n",
      "iteration 600 / 1000: loss 0.39614426985373846\n",
      "iteration 700 / 1000: loss 0.397396385527176\n",
      "iteration 800 / 1000: loss 0.3995294213938061\n",
      "iteration 900 / 1000: loss 0.39251573245195126\n",
      "Validation accuracy:  0.374\n",
      "learning_rate: 0.0001, iterations: 1000, batch_sizes: 500, lrdecay: 0.75, regularization: 2\n",
      "iteration 0 / 1000: loss 0.40253651201815194\n",
      "iteration 100 / 1000: loss 0.4088633503686617\n",
      "iteration 200 / 1000: loss 0.408945438200587\n",
      "iteration 300 / 1000: loss 0.4132520835158771\n",
      "iteration 400 / 1000: loss 0.4060998695636377\n",
      "iteration 500 / 1000: loss 0.4039841578829242\n",
      "iteration 600 / 1000: loss 0.4004101138941827\n",
      "iteration 700 / 1000: loss 0.3998587696049592\n",
      "iteration 800 / 1000: loss 0.4023280867664899\n",
      "iteration 900 / 1000: loss 0.4086128544503677\n",
      "Validation accuracy:  0.384\n",
      "learning_rate: 0.0001, iterations: 1000, batch_sizes: 500, lrdecay: 0.75, regularization: 4\n",
      "iteration 0 / 1000: loss 0.38986660827273756\n",
      "iteration 100 / 1000: loss 0.38871054234594155\n",
      "iteration 200 / 1000: loss 0.39164625492499133\n",
      "iteration 300 / 1000: loss 0.38803991648253733\n",
      "iteration 400 / 1000: loss 0.39380078901369026\n",
      "iteration 500 / 1000: loss 0.392795110524474\n",
      "iteration 600 / 1000: loss 0.3866651464178006\n",
      "iteration 700 / 1000: loss 0.38961125574763333\n",
      "iteration 800 / 1000: loss 0.3844748064901045\n",
      "iteration 900 / 1000: loss 0.3865255588480715\n",
      "Validation accuracy:  0.397\n",
      "learning_rate: 0.0001, iterations: 1000, batch_sizes: 500, lrdecay: 0.6, regularization: 1\n",
      "iteration 0 / 1000: loss 0.397890342530502\n",
      "iteration 100 / 1000: loss 0.39664139495305667\n",
      "iteration 200 / 1000: loss 0.39806424672490576\n",
      "iteration 300 / 1000: loss 0.39465029735702895\n",
      "iteration 400 / 1000: loss 0.38592682570796016\n",
      "iteration 500 / 1000: loss 0.38815063201846145\n",
      "iteration 600 / 1000: loss 0.38906223504459764\n",
      "iteration 700 / 1000: loss 0.3951918683827245\n",
      "iteration 800 / 1000: loss 0.39315185605692765\n",
      "iteration 900 / 1000: loss 0.3949182311622542\n",
      "Validation accuracy:  0.408\n",
      "learning_rate: 0.0001, iterations: 1000, batch_sizes: 500, lrdecay: 0.6, regularization: 2\n",
      "iteration 0 / 1000: loss 0.3986995973997588\n",
      "iteration 100 / 1000: loss 0.3973055199596088\n",
      "iteration 200 / 1000: loss 0.39391930245316237\n",
      "iteration 300 / 1000: loss 0.39557621972157836\n",
      "iteration 400 / 1000: loss 0.39789094212545284\n",
      "iteration 500 / 1000: loss 0.39446006376899956\n",
      "iteration 600 / 1000: loss 0.4042200585075049\n",
      "iteration 700 / 1000: loss 0.4055286177186125\n",
      "iteration 800 / 1000: loss 0.4014419545453836\n",
      "iteration 900 / 1000: loss 0.3948677139888631\n",
      "Validation accuracy:  0.412\n",
      "learning_rate: 0.0001, iterations: 1000, batch_sizes: 500, lrdecay: 0.6, regularization: 4\n",
      "iteration 0 / 1000: loss 0.38340183651565557\n",
      "iteration 100 / 1000: loss 0.3764493763981956\n",
      "iteration 200 / 1000: loss 0.37820700528326456\n",
      "iteration 300 / 1000: loss 0.37479065518164395\n",
      "iteration 400 / 1000: loss 0.3800071602056525\n",
      "iteration 500 / 1000: loss 0.3712103515511916\n",
      "iteration 600 / 1000: loss 0.3656064594927889\n",
      "iteration 700 / 1000: loss 0.36364783419368263\n",
      "iteration 800 / 1000: loss 0.36697226286677126\n",
      "iteration 900 / 1000: loss 0.36407699856426107\n",
      "Validation accuracy:  0.469\n",
      "learning_rate: 0.001, iterations: 1000, batch_sizes: 500, lrdecay: 0.8, regularization: 1\n",
      "iteration 0 / 1000: loss 0.3694466597113368\n",
      "iteration 100 / 1000: loss 0.373543254733199\n",
      "iteration 200 / 1000: loss 0.37439986211279586\n",
      "iteration 300 / 1000: loss 0.3676311538690628\n",
      "iteration 400 / 1000: loss 0.377368602925635\n",
      "iteration 500 / 1000: loss 0.38208764064495454\n",
      "iteration 600 / 1000: loss 0.36922782146277117\n",
      "iteration 700 / 1000: loss 0.3867333000868103\n",
      "iteration 800 / 1000: loss 0.36952801039300043\n",
      "iteration 900 / 1000: loss 0.3722765627327046\n",
      "Validation accuracy:  0.476\n",
      "learning_rate: 0.001, iterations: 1000, batch_sizes: 500, lrdecay: 0.8, regularization: 2\n",
      "iteration 0 / 1000: loss 0.3991283705322091\n",
      "iteration 100 / 1000: loss 0.4010290258897871\n",
      "iteration 200 / 1000: loss 0.38108187488536865\n",
      "iteration 300 / 1000: loss 0.39466185216396715\n",
      "iteration 400 / 1000: loss 0.39561484303741534\n",
      "iteration 500 / 1000: loss 0.38301751198609457\n",
      "iteration 600 / 1000: loss 0.38513550027875515\n",
      "iteration 700 / 1000: loss 0.3820433332885834\n",
      "iteration 800 / 1000: loss 0.38748307025022755\n",
      "iteration 900 / 1000: loss 0.3929053310021393\n",
      "Validation accuracy:  0.469\n",
      "learning_rate: 0.001, iterations: 1000, batch_sizes: 500, lrdecay: 0.8, regularization: 4\n",
      "iteration 0 / 1000: loss 0.36512594218263783\n",
      "iteration 100 / 1000: loss 0.367323356268986\n",
      "iteration 200 / 1000: loss 0.359768577023085\n",
      "iteration 300 / 1000: loss 0.36724892004396326\n",
      "iteration 400 / 1000: loss 0.3665875019931101\n",
      "iteration 500 / 1000: loss 0.37083613076747685\n",
      "iteration 600 / 1000: loss 0.36510674937041676\n",
      "iteration 700 / 1000: loss 0.36837831568117624\n",
      "iteration 800 / 1000: loss 0.3534028308524384\n",
      "iteration 900 / 1000: loss 0.35645066964936173\n",
      "Validation accuracy:  0.481\n",
      "learning_rate: 0.001, iterations: 1000, batch_sizes: 500, lrdecay: 0.75, regularization: 1\n",
      "iteration 0 / 1000: loss 0.3787612337654419\n",
      "iteration 100 / 1000: loss 0.36103437509583336\n",
      "iteration 200 / 1000: loss 0.38249091955336384\n",
      "iteration 300 / 1000: loss 0.38199107606437743\n",
      "iteration 400 / 1000: loss 0.3763466743939276\n",
      "iteration 500 / 1000: loss 0.36841350640327675\n",
      "iteration 600 / 1000: loss 0.3634889404438847\n",
      "iteration 700 / 1000: loss 0.38337902280174907\n",
      "iteration 800 / 1000: loss 0.37093137072448457\n",
      "iteration 900 / 1000: loss 0.37041330873644623\n",
      "Validation accuracy:  0.489\n",
      "learning_rate: 0.001, iterations: 1000, batch_sizes: 500, lrdecay: 0.75, regularization: 2\n",
      "iteration 0 / 1000: loss 0.3961698584581269\n",
      "iteration 100 / 1000: loss 0.3934203888193084\n"
     ]
    },
    {
     "name": "stdout",
     "output_type": "stream",
     "text": [
      "iteration 200 / 1000: loss 0.39378882728602216\n",
      "iteration 300 / 1000: loss 0.39442301994659124\n",
      "iteration 400 / 1000: loss 0.38041269101094705\n",
      "iteration 500 / 1000: loss 0.38389277447364206\n",
      "iteration 600 / 1000: loss 0.3870944785362808\n",
      "iteration 700 / 1000: loss 0.38118376915971197\n",
      "iteration 800 / 1000: loss 0.38475811062525966\n",
      "iteration 900 / 1000: loss 0.3879065223240719\n",
      "Validation accuracy:  0.48\n",
      "learning_rate: 0.001, iterations: 1000, batch_sizes: 500, lrdecay: 0.75, regularization: 4\n",
      "iteration 0 / 1000: loss 0.35569010052346667\n",
      "iteration 100 / 1000: loss 0.37399027359647014\n",
      "iteration 200 / 1000: loss 0.3598165084744659\n",
      "iteration 300 / 1000: loss 0.35805200362703177\n",
      "iteration 400 / 1000: loss 0.355848896301527\n",
      "iteration 500 / 1000: loss 0.35133996666179174\n",
      "iteration 600 / 1000: loss 0.3549076869336756\n",
      "iteration 700 / 1000: loss 0.3645371424579957\n",
      "iteration 800 / 1000: loss 0.37371990350928996\n",
      "iteration 900 / 1000: loss 0.3562798237010549\n",
      "Validation accuracy:  0.491\n",
      "learning_rate: 0.001, iterations: 1000, batch_sizes: 500, lrdecay: 0.6, regularization: 1\n",
      "iteration 0 / 1000: loss 0.3611752308517527\n",
      "iteration 100 / 1000: loss 0.3708100134057225\n",
      "iteration 200 / 1000: loss 0.37367554621831994\n",
      "iteration 300 / 1000: loss 0.3761156157350409\n",
      "iteration 400 / 1000: loss 0.38139816580608876\n",
      "iteration 500 / 1000: loss 0.3656138652625155\n",
      "iteration 600 / 1000: loss 0.3672178367171069\n",
      "iteration 700 / 1000: loss 0.3657449662326417\n",
      "iteration 800 / 1000: loss 0.3716326734827332\n",
      "iteration 900 / 1000: loss 0.3775046591339064\n",
      "Validation accuracy:  0.48\n",
      "learning_rate: 0.001, iterations: 1000, batch_sizes: 500, lrdecay: 0.6, regularization: 2\n",
      "iteration 0 / 1000: loss 0.3929974797967944\n",
      "iteration 100 / 1000: loss 0.39328910105080905\n",
      "iteration 200 / 1000: loss 0.39368156996299214\n",
      "iteration 300 / 1000: loss 0.3924648188132544\n",
      "iteration 400 / 1000: loss 0.38626402033554386\n",
      "iteration 500 / 1000: loss 0.38809675612292605\n",
      "iteration 600 / 1000: loss 0.3791959876437118\n",
      "iteration 700 / 1000: loss 0.37349471176190224\n",
      "iteration 800 / 1000: loss 0.37672527551983165\n",
      "iteration 900 / 1000: loss 0.3878827709682788\n",
      "Validation accuracy:  0.484\n",
      "learning_rate: 0.001, iterations: 1000, batch_sizes: 500, lrdecay: 0.6, regularization: 4\n",
      "== Best parameter settings ==\n",
      "learning_rate: 0.001, iterations: 1000, batch_sizes: 500, lrdecay: 0.6, regularization: 1\n",
      "Best accuracy on validation set: 0.491\n"
     ]
    }
   ],
   "source": [
    "best_net = None # store the best model into this \n",
    "\n",
    "# ================================================================ #\n",
    "# YOUR CODE HERE:\n",
    "#   Optimize over your hyperparameters to arrive at the best neural\n",
    "#   network.  You should be able to get over 45% validation accuracy.\n",
    "#   For this part of the notebook, we will give credit based on the\n",
    "#   accuracy you get.  Your score on this question will be multiplied by:\n",
    "#      min(floor((X - 23%)) / %22, 1) \n",
    "#   where if you get 50% or higher validation accuracy, you get full\n",
    "#   points.\n",
    "#\n",
    "#   Note, you need to use the same network structure (keep hidden_size = 50)!\n",
    "# ================================================================ #\n",
    "\n",
    "# todo: optimal parameter search (you can use grid search by for-loops )\n",
    "\n",
    "input_size = 32 * 32 * 3 # do not change\n",
    "hidden_size = 50 # do not change\n",
    "num_classes = 10 # do not change\n",
    "best_valacc = 0 # do not change\n",
    "\n",
    "# Train the network and find best parameter: \n",
    "\n",
    "optimal_settings = ''\n",
    "learning_rates = [1e-4, 1e-3]\n",
    "decays = [0.8, 0.75, 0.6]\n",
    "regularizations = [1, 2, 4]\n",
    "\n",
    "for lr in learning_rates:\n",
    "    for d in decays:\n",
    "        for regz in regularizations:\n",
    "            stats = net.train(X_train, y_train, X_val, y_val, num_iters=1000, batch_size=500, learning_rate=lr, learning_rate_decay=d, reg=regz, verbose=True)\n",
    "            val_acc = (net.predict(X_val) == y_val).mean()\n",
    "            print('Validation accuracy: ', val_acc)\n",
    "            print('learning_rate: {}, iterations: {}, batch_sizes: {}, lrdecay: {}, regularization: {}'.format(lr, 1000, 500, d, regz))\n",
    "            if val_acc > best_valacc:\n",
    "                best_valacc = val_acc\n",
    "                best_net = net\n",
    "                optimal_settings = 'learning_rate: {}, iterations: {}, batch_sizes: {}, lrdecay: {}, regularization: {}'.format(lr, 1000, 500, d, regz)\n",
    "                        \n",
    "\n",
    "# Output your results\n",
    "print(\"== Best parameter settings ==\")\n",
    "print(optimal_settings)\n",
    "print(\"Best accuracy on validation set: {}\".format(best_valacc))\n",
    "# ================================================================ #\n",
    "# END YOUR CODE HERE\n",
    "# ================================================================ #"
   ]
  },
  {
   "cell_type": "markdown",
   "metadata": {},
   "source": [
    "### Quesions\n",
    "\n",
    "(1) What is your best parameter settings? (Output from the previous cell)\n",
    "\n",
    "(2) What parameters did you tune? How are they changing the performance of nerural network? You can discuss any observations from the optimization."
   ]
  },
  {
   "cell_type": "markdown",
   "metadata": {},
   "source": [
    "### Answers"
   ]
  },
  {
   "cell_type": "markdown",
   "metadata": {},
   "source": [
    "(1)\n",
    "\n",
    "My best parameter settings are: \n",
    "\n",
    "learning_rate: 0.001, iterations: 1000, batch_sizes: 500, lrdecay: 0.6, regularization: 1\n",
    "\n",
    "\n",
    "(2)\n",
    "\n",
    "At first, I decided to tune all of the parameters with nested for loops. However, the runtime of this tuning process ended up being extremely long. Instead, I looked at the results that had printed out throughout this process and noticed that the most noticeable changes occurred from changing the learning rate, learning rate decay, and regularization. I then further tuned this parameters to a subset of values that are shown in the code. The tuning of these parameters quickly changed my validation accuracy to .45+, and allowed me to get the best set of parameters shown above."
   ]
  },
  {
   "cell_type": "markdown",
   "metadata": {},
   "source": [
    "## Visualize the weights of your neural networks"
   ]
  },
  {
   "cell_type": "code",
   "execution_count": 39,
   "metadata": {},
   "outputs": [
    {
     "name": "stderr",
     "output_type": "stream",
     "text": [
      "/Users/rajivanisetti/Downloads/HW3/.env/lib/python3.6/site-packages/numpy/core/_methods.py:29: RuntimeWarning: invalid value encountered in reduce\n",
      "  return umr_minimum(a, axis, None, out, keepdims)\n",
      "/Users/rajivanisetti/Downloads/HW3/.env/lib/python3.6/site-packages/numpy/core/_methods.py:26: RuntimeWarning: invalid value encountered in reduce\n",
      "  return umr_maximum(a, axis, None, out, keepdims)\n"
     ]
    },
    {
     "data": {
      "image/png": "[encoded data removed]",
      "text/plain": [
       "<matplotlib.figure.Figure at 0x10ec51470>"
      ]
     },
     "metadata": {},
     "output_type": "display_data"
    },
    {
     "data": {
      "image/png": "[encoded data removed]",
      "text/plain": [
       "<matplotlib.figure.Figure at 0x10f6f6940>"
      ]
     },
     "metadata": {},
     "output_type": "display_data"
    }
   ],
   "source": [
    "from cs145.vis_utils import visualize_grid\n",
    "\n",
    "# Visualize the weights of the network\n",
    "\n",
    "def show_net_weights(net):\n",
    "    W1 = net.params['W1']\n",
    "    W1 = W1.T.reshape(32, 32, 3, -1).transpose(3, 0, 1, 2)\n",
    "    plt.imshow(visualize_grid(W1, padding=3).astype('uint8'))\n",
    "    plt.gca().axis('off')\n",
    "    plt.show()\n",
    "\n",
    "show_net_weights(subopt_net)\n",
    "show_net_weights(best_net)"
   ]
  },
  {
   "cell_type": "markdown",
   "metadata": {},
   "source": [
    "### Questions:\n",
    "\n",
    "What differences do you see in the weights between the suboptimal net and the best net you arrived at? What do the weights in neural networks probably learn after training?"
   ]
  },
  {
   "cell_type": "markdown",
   "metadata": {},
   "source": [
    "### Answer:\n",
    "\n",
    "The weights of the best neural net seem far less noisy and more distinct/fine-tuned than the previous one. It seems that the neural network was able to finally distinguish between different the different attributes in the CIFAR dataset, and can make much more accurate and fine-tuned predictions than before."
   ]
  },
  {
   "cell_type": "markdown",
   "metadata": {},
   "source": [
    "---"
   ]
  },
  {
   "cell_type": "markdown",
   "metadata": {},
   "source": [
    "## Evaluate on test set "
   ]
  },
  {
   "cell_type": "code",
   "execution_count": 36,
   "metadata": {},
   "outputs": [
    {
     "name": "stdout",
     "output_type": "stream",
     "text": [
      "Test accuracy:  0.464\n"
     ]
    }
   ],
   "source": [
    "test_acc = (best_net.predict(X_test) == y_test).mean()\n",
    "#test_acc = (subopt_net.predict(X_test) == y_test).mean()\n",
    "print('Test accuracy: ', test_acc)"
   ]
  },
  {
   "cell_type": "markdown",
   "metadata": {},
   "source": [
    "### Questions:\n",
    "(1) What is your test accuracy by using the best NN you have got? How much does the performance increase compared with kNN? Why can neural networks perform better than kNN?\n",
    "\n",
    "(2) Do you have any other ideas or suggestions to further improve the performance of neural networks other than the parameters you have tried in the homework? "
   ]
  },
  {
   "cell_type": "markdown",
   "metadata": {},
   "source": [
    "### Answers:\n",
    "\n",
    "(1)\n",
    "\n",
    "The best accuracy I got from my optimal neural network was 46.4%. This is much better than our kNN implementation, which only had an accuracy of about 28%. Neural networks perform better than kNN here because of its sophisticated learning/training process. With multiple hidden layers and activation functions, the neural network can make distinctions at a much finer granularity, while kNN can only rely on distances between attributes. Thus, the neural network's advantage is due to its complexity and rigorous training/prediction process.\n",
    "\n",
    "(2)\n",
    "\n",
    "As I stated before, if we were able to add more hidden layers, we may be able to make an even more accurate neural network. The addition of hidden layers allows the neural network to learn more sophisticated features from the previous layers, which could prove quite useful when trying to make distinguishing between the CIFAR objects."
   ]
  },
  {
   "cell_type": "markdown",
   "metadata": {},
   "source": [
    "---"
   ]
  },
  {
   "cell_type": "markdown",
   "metadata": {},
   "source": [
    "## Bonus Question: Change MSE Loss to Cross Entropy Loss"
   ]
  },
  {
   "cell_type": "markdown",
   "metadata": {},
   "source": [
    "This is a bonus question. If you finish this (cross entropy loss) correctly, you will get **up to 20 points** (add up to your HW3 score). \n",
    "\n",
    "Note: From grading policy of this course, your maximum points from homework are still 25 out of 100, but you can use the bonus question to make up other deduction of other assignments."
   ]
  },
  {
   "cell_type": "markdown",
   "metadata": {},
   "source": [
    "Pass output scores in networks from forward pass into softmax function. The softmax function is defined as,\n",
    "$$p_j = \\sigma(z_j) = \\frac{e^{z_j}}{\\sum_{c=1}^{C} e^{z_c}}$$\n",
    "After softmax, the scores can be considered as probability of $j$-th class.\n",
    "\n",
    "The cross entropy loss is defined as,\n",
    "$$L = L_{\\text{CE}}+L_{reg} = \\frac{1}{N}\\sum_{i=1}^{N} \\log \\left(p_{i,j}\\right)+ \\frac{\\lambda}{2} \\left(||W_1||^2 + ||W_2||^2 \\right)$$\n",
    "\n",
    "To take derivative of this loss, you will get the gradient as,\n",
    "$$\\frac{\\partial L_{\\text{CE}}}{\\partial o_i} = p_i - y_i $$\n",
    "\n",
    "More details about multi-class cross entropy loss, please check [http://cs231n.github.io/linear-classify/](http://cs231n.github.io/linear-classify/) and [more explanation](https://deepnotes.io/softmax-crossentropy) about the derivative of cross entropy."
   ]
  },
  {
   "cell_type": "markdown",
   "metadata": {},
   "source": [
    "Change the loss from MSE to cross entropy, you only need to change you ```MSE_loss(x,y)``` in ```TwoLayerNet.loss()``` function to ```softmax_loss(x,y)```."
   ]
  },
  {
   "cell_type": "markdown",
   "metadata": {},
   "source": [
    "**Now you are free to use any code to show your results of the two-layer networks with newly-implemented cross entropy loss. You can use code from previous cells.**"
   ]
  },
  {
   "cell_type": "code",
   "execution_count": null,
   "metadata": {},
   "outputs": [],
   "source": [
    "# Start training your networks and show your results"
   ]
  },
  {
   "cell_type": "code",
   "execution_count": null,
   "metadata": {},
   "outputs": [],
   "source": []
  }
 ],
 "metadata": {
  "kernelspec": {
   "display_name": "Python 3",
   "language": "python",
   "name": "python3"
  },
  "language_info": {
   "codemirror_mode": {
    "name": "ipython",
    "version": 3
   },
   "file_extension": ".py",
   "mimetype": "text/x-python",
   "name": "python",
   "nbconvert_exporter": "python",
   "pygments_lexer": "ipython3",
   "version": "3.6.5"
  }
 },
 "nbformat": 4,
 "nbformat_minor": 2
}
